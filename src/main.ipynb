{
 "cells": [
  {
   "attachments": {},
   "cell_type": "markdown",
   "metadata": {},
   "source": [
    "##### Goal: predict price_differences from data like days, times or pools #####"
   ]
  },
  {
   "cell_type": "code",
   "execution_count": 1,
   "metadata": {},
   "outputs": [],
   "source": [
    "import os\n",
    "import pdb\n",
    "import numpy as np\n",
    "import pandas as pd\n",
    "import seaborn as sns\n",
    "from scipy import stats\n",
    "import statsmodels.api as sm\n",
    "from datetime import datetime\n",
    "import matplotlib.pyplot as plt\n",
    "from scripts.databasing import build_table\n",
    "from sklearn import linear_model, preprocessing\n",
    "from sklearn.metrics import mean_squared_error, r2_score\n",
    "from statsmodels.formula.api import ols\n",
    "from sklearn.model_selection import train_test_split\n",
    "from sklearn.preprocessing import StandardScaler, Normalizer, LabelEncoder, OneHotEncoder"
   ]
  },
  {
   "cell_type": "code",
   "execution_count": 2,
   "metadata": {},
   "outputs": [],
   "source": [
    "# Get our data\n",
    "file_loc = \"../data/to_db.log\"\n",
    "df = build_table(file_loc)"
   ]
  },
  {
   "cell_type": "code",
   "execution_count": 3,
   "metadata": {},
   "outputs": [
    {
     "data": {
      "text/plain": [
       "(31389, 10)"
      ]
     },
     "execution_count": 3,
     "metadata": {},
     "output_type": "execute_result"
    }
   ],
   "source": [
    "# Understanding our data\n",
    "df.shape"
   ]
  },
  {
   "cell_type": "code",
   "execution_count": 4,
   "metadata": {},
   "outputs": [
    {
     "data": {
      "text/html": [
       "<div>\n",
       "<style scoped>\n",
       "    .dataframe tbody tr th:only-of-type {\n",
       "        vertical-align: middle;\n",
       "    }\n",
       "\n",
       "    .dataframe tbody tr th {\n",
       "        vertical-align: top;\n",
       "    }\n",
       "\n",
       "    .dataframe thead th {\n",
       "        text-align: right;\n",
       "    }\n",
       "</style>\n",
       "<table border=\"1\" class=\"dataframe\">\n",
       "  <thead>\n",
       "    <tr style=\"text-align: right;\">\n",
       "      <th></th>\n",
       "      <th>date</th>\n",
       "      <th>time</th>\n",
       "      <th>level</th>\n",
       "      <th>dex</th>\n",
       "      <th>pool_asset</th>\n",
       "      <th>cex</th>\n",
       "      <th>cex_asset</th>\n",
       "      <th>price_diff</th>\n",
       "      <th>dex_price</th>\n",
       "      <th>cex_price</th>\n",
       "    </tr>\n",
       "  </thead>\n",
       "  <tbody>\n",
       "    <tr>\n",
       "      <th>0</th>\n",
       "      <td>2023-02-08</td>\n",
       "      <td>12:52:33,630</td>\n",
       "      <td>WARNING</td>\n",
       "      <td>THORChain</td>\n",
       "      <td>AVAX</td>\n",
       "      <td>Binance</td>\n",
       "      <td>AVAX</td>\n",
       "      <td>99.951600</td>\n",
       "      <td>19.964328558</td>\n",
       "      <td>19.945000000</td>\n",
       "    </tr>\n",
       "    <tr>\n",
       "      <th>1</th>\n",
       "      <td>2023-02-08</td>\n",
       "      <td>12:52:36,950</td>\n",
       "      <td>WARNING</td>\n",
       "      <td>THORChain</td>\n",
       "      <td>BCH</td>\n",
       "      <td>Binance</td>\n",
       "      <td>BCH</td>\n",
       "      <td>99.917400</td>\n",
       "      <td>132.168226076</td>\n",
       "      <td>131.950000000</td>\n",
       "    </tr>\n",
       "    <tr>\n",
       "      <th>2</th>\n",
       "      <td>2023-02-08</td>\n",
       "      <td>12:52:39,648</td>\n",
       "      <td>WARNING</td>\n",
       "      <td>THORChain</td>\n",
       "      <td>AVA</td>\n",
       "      <td>Binance</td>\n",
       "      <td>AVA</td>\n",
       "      <td>99.797700</td>\n",
       "      <td>0.715598593</td>\n",
       "      <td>0.718500000</td>\n",
       "    </tr>\n",
       "    <tr>\n",
       "      <th>3</th>\n",
       "      <td>2023-02-08</td>\n",
       "      <td>12:52:41,081</td>\n",
       "      <td>WARNING</td>\n",
       "      <td>THORChain</td>\n",
       "      <td>BNB</td>\n",
       "      <td>Binance</td>\n",
       "      <td>BNB</td>\n",
       "      <td>99.900200</td>\n",
       "      <td>326.801585434</td>\n",
       "      <td>326.150000000</td>\n",
       "    </tr>\n",
       "    <tr>\n",
       "      <th>4</th>\n",
       "      <td>2023-02-08</td>\n",
       "      <td>12:52:47,237</td>\n",
       "      <td>WARNING</td>\n",
       "      <td>THORChain</td>\n",
       "      <td>ETH</td>\n",
       "      <td>Binance</td>\n",
       "      <td>ETH</td>\n",
       "      <td>99.969300</td>\n",
       "      <td>1645.006361279</td>\n",
       "      <td>1643.995000000</td>\n",
       "    </tr>\n",
       "  </tbody>\n",
       "</table>\n",
       "</div>"
      ],
      "text/plain": [
       "         date          time    level        dex pool_asset      cex cex_asset  \\\n",
       "0  2023-02-08  12:52:33,630  WARNING  THORChain       AVAX  Binance      AVAX   \n",
       "1  2023-02-08  12:52:36,950  WARNING  THORChain        BCH  Binance       BCH   \n",
       "2  2023-02-08  12:52:39,648  WARNING  THORChain        AVA  Binance       AVA   \n",
       "3  2023-02-08  12:52:41,081  WARNING  THORChain        BNB  Binance       BNB   \n",
       "4  2023-02-08  12:52:47,237  WARNING  THORChain        ETH  Binance       ETH   \n",
       "\n",
       "  price_diff       dex_price       cex_price  \n",
       "0  99.951600    19.964328558    19.945000000  \n",
       "1  99.917400   132.168226076   131.950000000  \n",
       "2  99.797700     0.715598593     0.718500000  \n",
       "3  99.900200   326.801585434   326.150000000  \n",
       "4  99.969300  1645.006361279  1643.995000000  "
      ]
     },
     "execution_count": 4,
     "metadata": {},
     "output_type": "execute_result"
    }
   ],
   "source": [
    "# Understanding our data II\n",
    "df.head()"
   ]
  },
  {
   "cell_type": "code",
   "execution_count": 5,
   "metadata": {},
   "outputs": [
    {
     "data": {
      "text/plain": [
       "date          object\n",
       "time          object\n",
       "level         object\n",
       "dex           object\n",
       "pool_asset    object\n",
       "cex           object\n",
       "cex_asset     object\n",
       "price_diff    object\n",
       "dex_price     object\n",
       "cex_price     object\n",
       "dtype: object"
      ]
     },
     "execution_count": 5,
     "metadata": {},
     "output_type": "execute_result"
    }
   ],
   "source": [
    "# Understanding our data III\n",
    "df.dtypes"
   ]
  },
  {
   "cell_type": "code",
   "execution_count": 6,
   "metadata": {},
   "outputs": [
    {
     "data": {
      "text/html": [
       "<div>\n",
       "<style scoped>\n",
       "    .dataframe tbody tr th:only-of-type {\n",
       "        vertical-align: middle;\n",
       "    }\n",
       "\n",
       "    .dataframe tbody tr th {\n",
       "        vertical-align: top;\n",
       "    }\n",
       "\n",
       "    .dataframe thead th {\n",
       "        text-align: right;\n",
       "    }\n",
       "</style>\n",
       "<table border=\"1\" class=\"dataframe\">\n",
       "  <thead>\n",
       "    <tr style=\"text-align: right;\">\n",
       "      <th></th>\n",
       "      <th>date</th>\n",
       "      <th>time</th>\n",
       "      <th>level</th>\n",
       "      <th>dex</th>\n",
       "      <th>pool_asset</th>\n",
       "      <th>cex</th>\n",
       "      <th>cex_asset</th>\n",
       "      <th>price_diff</th>\n",
       "      <th>dex_price</th>\n",
       "      <th>cex_price</th>\n",
       "    </tr>\n",
       "  </thead>\n",
       "  <tbody>\n",
       "    <tr>\n",
       "      <th>0</th>\n",
       "      <td>False</td>\n",
       "      <td>False</td>\n",
       "      <td>False</td>\n",
       "      <td>False</td>\n",
       "      <td>False</td>\n",
       "      <td>False</td>\n",
       "      <td>False</td>\n",
       "      <td>False</td>\n",
       "      <td>False</td>\n",
       "      <td>False</td>\n",
       "    </tr>\n",
       "    <tr>\n",
       "      <th>1</th>\n",
       "      <td>False</td>\n",
       "      <td>False</td>\n",
       "      <td>False</td>\n",
       "      <td>False</td>\n",
       "      <td>False</td>\n",
       "      <td>False</td>\n",
       "      <td>False</td>\n",
       "      <td>False</td>\n",
       "      <td>False</td>\n",
       "      <td>False</td>\n",
       "    </tr>\n",
       "    <tr>\n",
       "      <th>2</th>\n",
       "      <td>False</td>\n",
       "      <td>False</td>\n",
       "      <td>False</td>\n",
       "      <td>False</td>\n",
       "      <td>False</td>\n",
       "      <td>False</td>\n",
       "      <td>False</td>\n",
       "      <td>False</td>\n",
       "      <td>False</td>\n",
       "      <td>False</td>\n",
       "    </tr>\n",
       "    <tr>\n",
       "      <th>3</th>\n",
       "      <td>False</td>\n",
       "      <td>False</td>\n",
       "      <td>False</td>\n",
       "      <td>False</td>\n",
       "      <td>False</td>\n",
       "      <td>False</td>\n",
       "      <td>False</td>\n",
       "      <td>False</td>\n",
       "      <td>False</td>\n",
       "      <td>False</td>\n",
       "    </tr>\n",
       "    <tr>\n",
       "      <th>4</th>\n",
       "      <td>False</td>\n",
       "      <td>False</td>\n",
       "      <td>False</td>\n",
       "      <td>False</td>\n",
       "      <td>False</td>\n",
       "      <td>False</td>\n",
       "      <td>False</td>\n",
       "      <td>False</td>\n",
       "      <td>False</td>\n",
       "      <td>False</td>\n",
       "    </tr>\n",
       "    <tr>\n",
       "      <th>...</th>\n",
       "      <td>...</td>\n",
       "      <td>...</td>\n",
       "      <td>...</td>\n",
       "      <td>...</td>\n",
       "      <td>...</td>\n",
       "      <td>...</td>\n",
       "      <td>...</td>\n",
       "      <td>...</td>\n",
       "      <td>...</td>\n",
       "      <td>...</td>\n",
       "    </tr>\n",
       "    <tr>\n",
       "      <th>31384</th>\n",
       "      <td>False</td>\n",
       "      <td>False</td>\n",
       "      <td>False</td>\n",
       "      <td>False</td>\n",
       "      <td>False</td>\n",
       "      <td>False</td>\n",
       "      <td>False</td>\n",
       "      <td>False</td>\n",
       "      <td>False</td>\n",
       "      <td>False</td>\n",
       "    </tr>\n",
       "    <tr>\n",
       "      <th>31385</th>\n",
       "      <td>False</td>\n",
       "      <td>False</td>\n",
       "      <td>False</td>\n",
       "      <td>False</td>\n",
       "      <td>False</td>\n",
       "      <td>False</td>\n",
       "      <td>False</td>\n",
       "      <td>False</td>\n",
       "      <td>False</td>\n",
       "      <td>False</td>\n",
       "    </tr>\n",
       "    <tr>\n",
       "      <th>31386</th>\n",
       "      <td>False</td>\n",
       "      <td>False</td>\n",
       "      <td>False</td>\n",
       "      <td>False</td>\n",
       "      <td>False</td>\n",
       "      <td>False</td>\n",
       "      <td>False</td>\n",
       "      <td>False</td>\n",
       "      <td>False</td>\n",
       "      <td>False</td>\n",
       "    </tr>\n",
       "    <tr>\n",
       "      <th>31387</th>\n",
       "      <td>False</td>\n",
       "      <td>False</td>\n",
       "      <td>False</td>\n",
       "      <td>False</td>\n",
       "      <td>False</td>\n",
       "      <td>False</td>\n",
       "      <td>False</td>\n",
       "      <td>False</td>\n",
       "      <td>False</td>\n",
       "      <td>False</td>\n",
       "    </tr>\n",
       "    <tr>\n",
       "      <th>31388</th>\n",
       "      <td>False</td>\n",
       "      <td>False</td>\n",
       "      <td>False</td>\n",
       "      <td>False</td>\n",
       "      <td>False</td>\n",
       "      <td>False</td>\n",
       "      <td>False</td>\n",
       "      <td>False</td>\n",
       "      <td>False</td>\n",
       "      <td>False</td>\n",
       "    </tr>\n",
       "  </tbody>\n",
       "</table>\n",
       "<p>31389 rows × 10 columns</p>\n",
       "</div>"
      ],
      "text/plain": [
       "        date   time  level    dex  pool_asset    cex  cex_asset  price_diff  \\\n",
       "0      False  False  False  False       False  False      False       False   \n",
       "1      False  False  False  False       False  False      False       False   \n",
       "2      False  False  False  False       False  False      False       False   \n",
       "3      False  False  False  False       False  False      False       False   \n",
       "4      False  False  False  False       False  False      False       False   \n",
       "...      ...    ...    ...    ...         ...    ...        ...         ...   \n",
       "31384  False  False  False  False       False  False      False       False   \n",
       "31385  False  False  False  False       False  False      False       False   \n",
       "31386  False  False  False  False       False  False      False       False   \n",
       "31387  False  False  False  False       False  False      False       False   \n",
       "31388  False  False  False  False       False  False      False       False   \n",
       "\n",
       "       dex_price  cex_price  \n",
       "0          False      False  \n",
       "1          False      False  \n",
       "2          False      False  \n",
       "3          False      False  \n",
       "4          False      False  \n",
       "...          ...        ...  \n",
       "31384      False      False  \n",
       "31385      False      False  \n",
       "31386      False      False  \n",
       "31387      False      False  \n",
       "31388      False      False  \n",
       "\n",
       "[31389 rows x 10 columns]"
      ]
     },
     "execution_count": 6,
     "metadata": {},
     "output_type": "execute_result"
    }
   ],
   "source": [
    "# Checking for Nans or non-conviniently called columns\n",
    "df.isna() \n",
    "\n",
    "# La tabla no tienen Nans o columnas con nombres raros... se puede considerar que el trabajo \n",
    "# de limpieza se hizo previemente, desde el código que generó la información..."
   ]
  },
  {
   "cell_type": "code",
   "execution_count": 7,
   "metadata": {},
   "outputs": [
    {
     "data": {
      "text/plain": [
       "0        2023-02-08 12:52:33\n",
       "1        2023-02-08 12:52:36\n",
       "2        2023-02-08 12:52:39\n",
       "3        2023-02-08 12:52:41\n",
       "4        2023-02-08 12:52:47\n",
       "                ...         \n",
       "31384    2023-02-10 16:19:50\n",
       "31385    2023-02-10 16:19:53\n",
       "31386    2023-02-10 16:19:58\n",
       "31387    2023-02-10 16:19:59\n",
       "31388    2023-02-10 16:20:00\n",
       "Name: unix_datetime, Length: 31389, dtype: object"
      ]
     },
     "execution_count": 7,
     "metadata": {},
     "output_type": "execute_result"
    }
   ],
   "source": [
    "#Creando una nueva columna util\n",
    "df[\"time\"] = df[\"time\"].astype(str).str[:-4]\n",
    "df[\"unix_datetime\"] = df[\"date\"] + \" \" + df[\"time\"]\n",
    "df[\"unix_datetime\"]"
   ]
  },
  {
   "cell_type": "code",
   "execution_count": 8,
   "metadata": {},
   "outputs": [],
   "source": [
    "# Dando el formato adecuado a cada columna\n",
    "\n",
    "df[\"price_diff\"] = df[\"price_diff\"].astype(float)\n",
    "df[\"dex_price\"] = df[\"dex_price\"].astype(float)\n",
    "df[\"cex_price\"] = df[\"cex_price\"].astype(float)\n",
    "df[\"date\"] = pd.to_datetime(df['date'], format='%Y-%m-%d')\n",
    "df[\"time\"] = pd.to_datetime(df['time'], format='%H:%M:%S').dt.time\n",
    "df[\"unix_datetime\"] = pd.to_datetime(df['unix_datetime']).map(pd.Timestamp.timestamp)"
   ]
  },
  {
   "cell_type": "code",
   "execution_count": 9,
   "metadata": {},
   "outputs": [
    {
     "data": {
      "text/html": [
       "<div>\n",
       "<style scoped>\n",
       "    .dataframe tbody tr th:only-of-type {\n",
       "        vertical-align: middle;\n",
       "    }\n",
       "\n",
       "    .dataframe tbody tr th {\n",
       "        vertical-align: top;\n",
       "    }\n",
       "\n",
       "    .dataframe thead th {\n",
       "        text-align: right;\n",
       "    }\n",
       "</style>\n",
       "<table border=\"1\" class=\"dataframe\">\n",
       "  <thead>\n",
       "    <tr style=\"text-align: right;\">\n",
       "      <th></th>\n",
       "      <th>date</th>\n",
       "      <th>time</th>\n",
       "      <th>pool_asset</th>\n",
       "      <th>cex_asset</th>\n",
       "      <th>price_diff</th>\n",
       "      <th>dex_price</th>\n",
       "      <th>cex_price</th>\n",
       "      <th>unix_datetime</th>\n",
       "    </tr>\n",
       "  </thead>\n",
       "  <tbody>\n",
       "    <tr>\n",
       "      <th>0</th>\n",
       "      <td>2023-02-08</td>\n",
       "      <td>12:52:33</td>\n",
       "      <td>AVAX</td>\n",
       "      <td>AVAX</td>\n",
       "      <td>99.9516</td>\n",
       "      <td>19.964329</td>\n",
       "      <td>19.9450</td>\n",
       "      <td>1.675861e+09</td>\n",
       "    </tr>\n",
       "    <tr>\n",
       "      <th>1</th>\n",
       "      <td>2023-02-08</td>\n",
       "      <td>12:52:36</td>\n",
       "      <td>BCH</td>\n",
       "      <td>BCH</td>\n",
       "      <td>99.9174</td>\n",
       "      <td>132.168226</td>\n",
       "      <td>131.9500</td>\n",
       "      <td>1.675861e+09</td>\n",
       "    </tr>\n",
       "    <tr>\n",
       "      <th>2</th>\n",
       "      <td>2023-02-08</td>\n",
       "      <td>12:52:39</td>\n",
       "      <td>AVA</td>\n",
       "      <td>AVA</td>\n",
       "      <td>99.7977</td>\n",
       "      <td>0.715599</td>\n",
       "      <td>0.7185</td>\n",
       "      <td>1.675861e+09</td>\n",
       "    </tr>\n",
       "    <tr>\n",
       "      <th>3</th>\n",
       "      <td>2023-02-08</td>\n",
       "      <td>12:52:41</td>\n",
       "      <td>BNB</td>\n",
       "      <td>BNB</td>\n",
       "      <td>99.9002</td>\n",
       "      <td>326.801585</td>\n",
       "      <td>326.1500</td>\n",
       "      <td>1.675861e+09</td>\n",
       "    </tr>\n",
       "    <tr>\n",
       "      <th>4</th>\n",
       "      <td>2023-02-08</td>\n",
       "      <td>12:52:47</td>\n",
       "      <td>ETH</td>\n",
       "      <td>ETH</td>\n",
       "      <td>99.9693</td>\n",
       "      <td>1645.006361</td>\n",
       "      <td>1643.9950</td>\n",
       "      <td>1.675861e+09</td>\n",
       "    </tr>\n",
       "  </tbody>\n",
       "</table>\n",
       "</div>"
      ],
      "text/plain": [
       "        date      time pool_asset cex_asset  price_diff    dex_price  \\\n",
       "0 2023-02-08  12:52:33       AVAX      AVAX     99.9516    19.964329   \n",
       "1 2023-02-08  12:52:36        BCH       BCH     99.9174   132.168226   \n",
       "2 2023-02-08  12:52:39        AVA       AVA     99.7977     0.715599   \n",
       "3 2023-02-08  12:52:41        BNB       BNB     99.9002   326.801585   \n",
       "4 2023-02-08  12:52:47        ETH       ETH     99.9693  1645.006361   \n",
       "\n",
       "   cex_price  unix_datetime  \n",
       "0    19.9450   1.675861e+09  \n",
       "1   131.9500   1.675861e+09  \n",
       "2     0.7185   1.675861e+09  \n",
       "3   326.1500   1.675861e+09  \n",
       "4  1643.9950   1.675861e+09  "
      ]
     },
     "execution_count": 9,
     "metadata": {},
     "output_type": "execute_result"
    }
   ],
   "source": [
    "# Limpiar columnas que no sirven\n",
    "df = df.drop([\"level\", \"dex\", \"cex\"], axis=1)\n",
    "df.head()"
   ]
  },
  {
   "cell_type": "code",
   "execution_count": 10,
   "metadata": {},
   "outputs": [
    {
     "name": "stdout",
     "output_type": "stream",
     "text": [
      "Dimensiones de la tabla og: (31389, 8)\n",
      "Diferencia mayor:  97.2511\n",
      "Diferencia menor:  100.0\n",
      "Dimensiones de la tabla ahora: (15693, 8)\n",
      "Diferencia mayor:  97.2511\n",
      "Diferencia menor:  99.9169\n"
     ]
    }
   ],
   "source": [
    "# No es necesario quitar outliers aunque si será bueno quitar diferencias demasiado chicas (ex. price_diff <.08%)\n",
    "\n",
    "print(\"Dimensiones de la tabla og:\", df.shape)\n",
    "print(\"Diferencia mayor: \", df['price_diff'].min())\n",
    "print(\"Diferencia menor: \", df['price_diff'].max())\n",
    "\n",
    "lower_limit = np.percentile(df['price_diff'], 50)\n",
    "df = df[(df['price_diff'] < lower_limit)]\n",
    "\n",
    "print(\"Dimensiones de la tabla ahora:\", df.shape)\n",
    "print(\"Diferencia mayor: \", df['price_diff'].min())\n",
    "print(\"Diferencia menor: \", df['price_diff'].max())\n"
   ]
  },
  {
   "cell_type": "code",
   "execution_count": 11,
   "metadata": {},
   "outputs": [],
   "source": [
    "# Info para graficar en Tableau\n",
    "time_info = df[[\"date\", \"time\"]]\n",
    "\n",
    "# Numerical\n",
    "numerical = df.select_dtypes(\"number\")\n",
    "y = numerical['price_diff']\n",
    "numerical = numerical.drop(\"price_diff\", axis=1)\n",
    "\n",
    "# Categorical \n",
    "categorical = df[[\"pool_asset\", \"cex_asset\"]]"
   ]
  },
  {
   "cell_type": "code",
   "execution_count": 12,
   "metadata": {},
   "outputs": [
    {
     "name": "stderr",
     "output_type": "stream",
     "text": [
      "/var/folders/vp/lnx3vw2x7s39s7tbl04ls9780000gn/T/ipykernel_94436/451461628.py:4: UserWarning: \n",
      "\n",
      "`distplot` is a deprecated function and will be removed in seaborn v0.14.0.\n",
      "\n",
      "Please adapt your code to use either `displot` (a figure-level function with\n",
      "similar flexibility) or `histplot` (an axes-level function for histograms).\n",
      "\n",
      "For a guide to updating your code to use the new functions, please see\n",
      "https://gist.github.com/mwaskom/de44147ed2974457ad6372750bbe5751\n",
      "\n",
      "  sns.distplot(numerical[numerical.columns[i]])\n"
     ]
    },
    {
     "data": {
      "image/png": "[encoded data removed]",
      "text/plain": [
       "<Figure size 640x480 with 1 Axes>"
      ]
     },
     "metadata": {},
     "output_type": "display_data"
    },
    {
     "name": "stderr",
     "output_type": "stream",
     "text": [
      "/var/folders/vp/lnx3vw2x7s39s7tbl04ls9780000gn/T/ipykernel_94436/451461628.py:4: UserWarning: \n",
      "\n",
      "`distplot` is a deprecated function and will be removed in seaborn v0.14.0.\n",
      "\n",
      "Please adapt your code to use either `displot` (a figure-level function with\n",
      "similar flexibility) or `histplot` (an axes-level function for histograms).\n",
      "\n",
      "For a guide to updating your code to use the new functions, please see\n",
      "https://gist.github.com/mwaskom/de44147ed2974457ad6372750bbe5751\n",
      "\n",
      "  sns.distplot(numerical[numerical.columns[i]])\n"
     ]
    },
    {
     "data": {
      "image/png": "[encoded data removed]",
      "text/plain": [
       "<Figure size 640x480 with 1 Axes>"
      ]
     },
     "metadata": {},
     "output_type": "display_data"
    },
    {
     "name": "stderr",
     "output_type": "stream",
     "text": [
      "/var/folders/vp/lnx3vw2x7s39s7tbl04ls9780000gn/T/ipykernel_94436/451461628.py:4: UserWarning: \n",
      "\n",
      "`distplot` is a deprecated function and will be removed in seaborn v0.14.0.\n",
      "\n",
      "Please adapt your code to use either `displot` (a figure-level function with\n",
      "similar flexibility) or `histplot` (an axes-level function for histograms).\n",
      "\n",
      "For a guide to updating your code to use the new functions, please see\n",
      "https://gist.github.com/mwaskom/de44147ed2974457ad6372750bbe5751\n",
      "\n",
      "  sns.distplot(numerical[numerical.columns[i]])\n"
     ]
    },
    {
     "data": {
      "image/png": "[encoded data removed]",
      "text/plain": [
       "<Figure size 640x480 with 1 Axes>"
      ]
     },
     "metadata": {},
     "output_type": "display_data"
    }
   ],
   "source": [
    "# Exploration (distributions)\n",
    "\n",
    "for i in range(len(numerical.columns)):\n",
    "  sns.distplot(numerical[numerical.columns[i]])\n",
    "  plt.show()"
   ]
  },
  {
   "cell_type": "code",
   "execution_count": 13,
   "metadata": {},
   "outputs": [],
   "source": [
    "# Se decide no usar transformación(es) o normalización"
   ]
  },
  {
   "cell_type": "code",
   "execution_count": 14,
   "metadata": {},
   "outputs": [
    {
     "data": {
      "text/plain": [
       "<AxesSubplot: >"
      ]
     },
     "execution_count": 14,
     "metadata": {},
     "output_type": "execute_result"
    },
    {
     "data": {
      "image/png": "[encoded data removed]",
      "text/plain": [
       "<Figure size 640x480 with 2 Axes>"
      ]
     },
     "metadata": {},
     "output_type": "display_data"
    }
   ],
   "source": [
    "# Correlation exploración\n",
    "\n",
    "sns.heatmap(numerical.corr(), annot=True)\n",
    "#numerical.corr()"
   ]
  },
  {
   "cell_type": "code",
   "execution_count": 15,
   "metadata": {},
   "outputs": [
    {
     "data": {
      "text/plain": [
       "(array([[14819.,     0.,     0.,     0.,     0.,     0.,     0.,     0.,\n",
       "             0.,   874.],\n",
       "        [14410.,     0.,     0.,     0.,     0.,     0.,     0.,     0.,\n",
       "             0.,  1283.],\n",
       "        [14820.,     0.,     0.,     0.,     0.,     0.,     0.,     0.,\n",
       "             0.,   873.],\n",
       "        [14898.,     0.,     0.,     0.,     0.,     0.,     0.,     0.,\n",
       "             0.,   795.],\n",
       "        [15373.,     0.,     0.,     0.,     0.,     0.,     0.,     0.,\n",
       "             0.,   320.],\n",
       "        [14303.,     0.,     0.,     0.,     0.,     0.,     0.,     0.,\n",
       "             0.,  1390.],\n",
       "        [15074.,     0.,     0.,     0.,     0.,     0.,     0.,     0.,\n",
       "             0.,   619.],\n",
       "        [13406.,     0.,     0.,     0.,     0.,     0.,     0.,     0.,\n",
       "             0.,  2287.],\n",
       "        [14926.,     0.,     0.,     0.,     0.,     0.,     0.,     0.,\n",
       "             0.,   767.],\n",
       "        [14207.,     0.,     0.,     0.,     0.,     0.,     0.,     0.,\n",
       "             0.,  1486.],\n",
       "        [14946.,     0.,     0.,     0.,     0.,     0.,     0.,     0.,\n",
       "             0.,   747.],\n",
       "        [15324.,     0.,     0.,     0.,     0.,     0.,     0.,     0.,\n",
       "             0.,   369.],\n",
       "        [15000.,     0.,     0.,     0.,     0.,     0.,     0.,     0.,\n",
       "             0.,   693.],\n",
       "        [14174.,     0.,     0.,     0.,     0.,     0.,     0.,     0.,\n",
       "             0.,  1519.],\n",
       "        [14819.,     0.,     0.,     0.,     0.,     0.,     0.,     0.,\n",
       "             0.,   874.],\n",
       "        [14410.,     0.,     0.,     0.,     0.,     0.,     0.,     0.,\n",
       "             0.,  1283.],\n",
       "        [14820.,     0.,     0.,     0.,     0.,     0.,     0.,     0.,\n",
       "             0.,   873.],\n",
       "        [14898.,     0.,     0.,     0.,     0.,     0.,     0.,     0.,\n",
       "             0.,   795.],\n",
       "        [15373.,     0.,     0.,     0.,     0.,     0.,     0.,     0.,\n",
       "             0.,   320.],\n",
       "        [14303.,     0.,     0.,     0.,     0.,     0.,     0.,     0.,\n",
       "             0.,  1390.],\n",
       "        [15074.,     0.,     0.,     0.,     0.,     0.,     0.,     0.,\n",
       "             0.,   619.],\n",
       "        [13406.,     0.,     0.,     0.,     0.,     0.,     0.,     0.,\n",
       "             0.,  2287.],\n",
       "        [14926.,     0.,     0.,     0.,     0.,     0.,     0.,     0.,\n",
       "             0.,   767.],\n",
       "        [14207.,     0.,     0.,     0.,     0.,     0.,     0.,     0.,\n",
       "             0.,  1486.],\n",
       "        [14946.,     0.,     0.,     0.,     0.,     0.,     0.,     0.,\n",
       "             0.,   747.],\n",
       "        [15324.,     0.,     0.,     0.,     0.,     0.,     0.,     0.,\n",
       "             0.,   369.],\n",
       "        [15000.,     0.,     0.,     0.,     0.,     0.,     0.,     0.,\n",
       "             0.,   693.],\n",
       "        [14174.,     0.,     0.,     0.,     0.,     0.,     0.,     0.,\n",
       "             0.,  1519.]]),\n",
       " array([0. , 0.1, 0.2, 0.3, 0.4, 0.5, 0.6, 0.7, 0.8, 0.9, 1. ]),\n",
       " <a list of 28 BarContainer objects>)"
      ]
     },
     "execution_count": 15,
     "metadata": {},
     "output_type": "execute_result"
    },
    {
     "data": {
      "image/png": "[encoded data removed]",
      "text/plain": [
       "<Figure size 640x480 with 1 Axes>"
      ]
     },
     "metadata": {},
     "output_type": "display_data"
    }
   ],
   "source": [
    "# Encoding Categorical Data.\n",
    "\n",
    "encoder = OneHotEncoder(drop='first').fit(categorical).transform(categorical).toarray()\n",
    "\n",
    "#for i in encoder:\n",
    "#  print(max(i))\n",
    "\n",
    "plt.hist(encoder)"
   ]
  },
  {
   "cell_type": "code",
   "execution_count": 16,
   "metadata": {},
   "outputs": [],
   "source": [
    "# Concatenate both tables\n",
    "\n",
    "encoder_df = pd.DataFrame(encoder)\n",
    "X=np.concatenate((numerical,encoder_df),axis=1)\n",
    "\n",
    "# Splitting into train set and test set.\n",
    "X_train,X_test,y_train,y_test=train_test_split(X,y,test_size=0.2,random_state=5)\n",
    "X_train,X_test,y_train,y_test=train_test_split(X,y,test_size=0.2)\n",
    "\n",
    "#Apply model\n",
    "\n",
    "# Haciendo el modelo lineal, con una regresión...\n",
    "lm=linear_model.LinearRegression()\n",
    "\n",
    "# Entrenar\n",
    "model=lm.fit(X_train,y_train)\n"
   ]
  },
  {
   "cell_type": "code",
   "execution_count": 17,
   "metadata": {},
   "outputs": [],
   "source": [
    "# Concatenate all tables, to export into Tableau\n",
    "ft = pd.concat([numerical, categorical, time_info, y],axis=1)\n",
    "ft.to_csv(\"../data/tableau_data.csv\")\n",
    "    "
   ]
  },
  {
   "cell_type": "code",
   "execution_count": 18,
   "metadata": {},
   "outputs": [
    {
     "data": {
      "text/plain": [
       "0.5613743316807669"
      ]
     },
     "execution_count": 18,
     "metadata": {},
     "output_type": "execute_result"
    }
   ],
   "source": [
    "# Model Validation\n",
    "predictions=lm.predict(X_test)\n",
    "\n",
    "# R2\n",
    "r2s = r2_score(y_test,predictions)\n",
    "r2s"
   ]
  }
 ],
 "metadata": {
  "kernelspec": {
   "display_name": "Python 3",
   "language": "python",
   "name": "python3"
  },
  "language_info": {
   "codemirror_mode": {
    "name": "ipython",
    "version": 3
   },
   "file_extension": ".py",
   "mimetype": "text/x-python",
   "name": "python",
   "nbconvert_exporter": "python",
   "pygments_lexer": "ipython3",
   "version": "3.10.9"
  },
  "orig_nbformat": 4,
  "vscode": {
   "interpreter": {
    "hash": "aee8b7b246df8f9039afb4144a1f6fd8d2ca17a180786b69acc140d282b71a49"
   }
  }
 },
 "nbformat": 4,
 "nbformat_minor": 2
}
